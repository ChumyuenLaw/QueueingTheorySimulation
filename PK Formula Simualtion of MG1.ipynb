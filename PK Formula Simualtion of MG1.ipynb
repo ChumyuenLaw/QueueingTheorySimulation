{
 "cells": [
  {
   "cell_type": "markdown",
   "source": [
    "# Pollaczek Khinchine Formula Simulation for M/G/1"
   ],
   "metadata": {
    "collapsed": false
   }
  },
  {
   "cell_type": "code",
   "execution_count": 29,
   "metadata": {
    "collapsed": true
   },
   "outputs": [],
   "source": [
    "import numpy as np\n",
    "import random as random\n",
    "import scipy.stats as stats"
   ]
  },
  {
   "cell_type": "markdown",
   "source": [
    "## Pollaczek Khinchine Formula\n",
    "The classic performance of an M/G/1 queue can be obtained by PK Formula.\n",
    "$$E\\left\\lbrack R\\right\\rbrack=\\frac{1}{T}\\sum_{i=1}^{S\\left(T\\right)}\\frac{1}{2}S_{^{}i^{}}^2$$,where $S\\left(T\\right)$ is the total number of customers, and  is the service time of customer i.\n",
    "$$E\\left\\lbrack W_Q\\right\\rbrack=\\frac{E\\left\\lbrack R\\right\\rbrack}{1-\\rho}$$\n",
    "$$E\\left\\lbrack D\\right\\rbrack=\\frac{E\\left\\lbrack R\\right\\rbrack}{1-\\rho}+\\frac{1}{\\mu}$$\n",
    "$$E\\left\\lbrack Q\\right\\rbrack=\\lambda\\frac{E\\left\\lbrack R\\right\\rbrack}{1-\\rho}+\\rho$$"
   ],
   "metadata": {
    "collapsed": false
   }
  },
  {
   "cell_type": "markdown",
   "source": [
    "## M/M/1\n",
    "For M/M/1 with $\\lambda=3$ and $\\mu=4$, theoretically, $E\\left\\lbrack R\\right\\rbrack=\\frac{\\rho}{\\mu}=0.1875$, $E\\left\\lbrack Q\\right\\rbrack=\\frac{\\rho}{1-\\rho}=3$, $E\\left\\lbrack D\\right\\rbrack=\\frac{1}{\\mu-\\lambda}=1$. The total number of arrivals is 50000.\n",
    "\n",
    "200 M/M/1 models with the above parameters are generated. The mean queue size, mean delay, and mean residual time are measured by PK Formula. Their confidence intervals are also calculated."
   ],
   "metadata": {
    "collapsed": false
   }
  },
  {
   "cell_type": "code",
   "execution_count": 30,
   "outputs": [],
   "source": [
    "def general_simulation_mm1(lam, mu, total_arrivals):\n",
    "    arrival_time = np.zeros(total_arrivals) # the time when the customer arrives\n",
    "    service_time = np.zeros(total_arrivals) # the service time\n",
    "    enter_time = np.zeros(total_arrivals)   # the time when the customer is served\n",
    "    departure_time = np.zeros(total_arrivals)  # the time when the customer leaves the queue\n",
    "\n",
    "    # initialization of service time and arrival time\n",
    "    for i in range(total_arrivals):\n",
    "        service_time[i] = random.expovariate(mu)\n",
    "    for i in range(1, total_arrivals):\n",
    "        arrival_time[i] = arrival_time[i - 1] + random.expovariate(lam)\n",
    "\n",
    "    departure_time[0] = service_time[0]\n",
    "\n",
    "    # simulation process\n",
    "    for i in range(1, total_arrivals):\n",
    "        if departure_time[i - 1] < arrival_time[i]:\n",
    "            enter_time[i] = arrival_time[i]\n",
    "        else:\n",
    "            enter_time[i] = departure_time[i - 1]\n",
    "        departure_time[i] = enter_time[i] + service_time[i]\n",
    "\n",
    "    delay = departure_time - arrival_time\n",
    "    mean_queue_size = np.sum(delay) / departure_time[total_arrivals - 1]\n",
    "    mean_delay = np.mean(delay)\n",
    "    mean_residual_time = 0.5 * np.sum(np.square(service_time)) / departure_time[total_arrivals - 1]\n",
    "\n",
    "    return mean_queue_size, mean_delay, mean_residual_time"
   ],
   "metadata": {
    "collapsed": false
   }
  },
  {
   "cell_type": "code",
   "execution_count": 31,
   "outputs": [],
   "source": [
    "lam = 3\n",
    "mu = 4\n",
    "total_arrivals = 50000\n",
    "loop_time = 200\n",
    "EQ = np.zeros(loop_time)\n",
    "ED = np.zeros(loop_time)\n",
    "EQ_PK = np.zeros(loop_time)\n",
    "ED_PK = np.zeros(loop_time)\n",
    "ER = np.zeros(loop_time)\n",
    "\n",
    "for i in range(loop_time):\n",
    "    EQ[i], ED[i], ER[i] = general_simulation_mm1(lam, mu, total_arrivals)\n",
    "    ED_PK[i] = ER[i] / (1 - lam / mu) + 1/ mu\n",
    "    EQ_PK[i] = lam * ED_PK[i]\n",
    "\n",
    "residual_time_confidence_interval = stats.norm.interval(alpha = 0.95,\n",
    "                                                        loc = np.mean(ER),\n",
    "                                                        scale = stats.sem(ER))\n",
    "queue_confidence_interval = stats.norm.interval(alpha = 0.95,\n",
    "                                                loc = np.mean(EQ_PK),\n",
    "                                                scale = stats.sem(EQ_PK))\n",
    "delay_confidence_interval = stats.norm.interval(alpha = 0.95,\n",
    "                                                loc = np.mean(ED_PK),\n",
    "                                                scale = stats.sem(ED_PK))"
   ],
   "metadata": {
    "collapsed": false
   }
  },
  {
   "cell_type": "code",
   "execution_count": 32,
   "outputs": [
    {
     "name": "stdout",
     "output_type": "stream",
     "text": [
      "M/M/1 theoretical mean residual time: 0.1875\n",
      "M/M/1 mean residual time: 0.18746242263119955\n",
      "Residual time confidence intervals from PK Formula (0.18718524966260047, 0.18773959559979864)\n",
      "----------------------------------------------------------------------------------------------\n",
      "M/M/1 theoretical mean queue size: 3.0\n",
      "M/M/1 mean queue size from general simulation: 2.999135445520892\n",
      "M/M/1 mean queue size from PK Formula: 2.9995490715743944\n",
      "Queue size confidence intervals from PK Formula (2.9962229959512054, 3.0028751471975834)\n",
      "----------------------------------------------------------------------------------------------\n",
      "M/M/1 theoretical mean delay: 1.0\n",
      "M/M/1 mean delay from general simulation: 0.9996381300017299\n",
      "M/M/1 mean delay from PK Formula: 0.9998496905247982\n",
      "Delay confidence intervals from PK Formula (0.9987409986504019, 1.0009583823991945)\n"
     ]
    }
   ],
   "source": [
    "rho = lam / mu\n",
    "print(\"M/M/1 theoretical mean residual time:\", rho / mu)\n",
    "print(\"M/M/1 mean residual time:\", np.mean(ER))\n",
    "print(\"Residual time confidence intervals from PK Formula\", residual_time_confidence_interval)\n",
    "print(\"----------------------------------------------------------------------------------------------\")\n",
    "print(\"M/M/1 theoretical mean queue size:\", rho / (1 - rho))\n",
    "print(\"M/M/1 mean queue size from general simulation:\", np.mean(EQ))\n",
    "print(\"M/M/1 mean queue size from PK Formula:\", np.mean(EQ_PK))\n",
    "print(\"Queue size confidence intervals from PK Formula\", queue_confidence_interval)\n",
    "print(\"----------------------------------------------------------------------------------------------\")\n",
    "print(\"M/M/1 theoretical mean delay:\", 1 / (mu - lam))\n",
    "print(\"M/M/1 mean delay from general simulation:\", np.mean(ED))\n",
    "print(\"M/M/1 mean delay from PK Formula:\", np.mean(ED_PK))\n",
    "print(\"Delay confidence intervals from PK Formula\", delay_confidence_interval)"
   ],
   "metadata": {
    "collapsed": false
   }
  },
  {
   "cell_type": "markdown",
   "source": [
    "## M/D/1\n",
    "The generation process of M/D/1 is very similar to M/M/1's. The only difference is the service time initialization. Since the input is the service rate d, the service time should be 1 / d.\n",
    "\n",
    "For M/D/1 with $\\lambda=3$ and $\\mu=4$, theoretically, $E\\left\\lbrack R\\right\\rbrack=\\frac{\\rho}{2\\mu}=0.09375$, $E\\left\\lbrack Q\\right\\rbrack=\\frac{\\rho}{1-\\rho}\\times\\frac{2-\\rho}{2}=1.875$, $E\\left\\lbrack D\\right\\rbrack=\\frac{1}{\\lambda}\\times\\frac{\\rho}{1-\\rho}\\times\\frac{2-\\rho}{2}=0.625$. The total number of arrivals is 50000.\n",
    "\n",
    "200 M/D/1 models with the above parameters are generated. The mean queue size, mean delay, and mean residual time are measured by PK Formula. Their confidence intervals are also calculated."
   ],
   "metadata": {
    "collapsed": false
   }
  },
  {
   "cell_type": "code",
   "execution_count": 33,
   "outputs": [],
   "source": [
    "def general_simulation_md1(lam, d, total_arrivals):\n",
    "    arrival_time = np.zeros(total_arrivals) # the time when the customer arrives\n",
    "    service_time = np.zeros(total_arrivals) # the service time\n",
    "    enter_time = np.zeros(total_arrivals)   # the time when the customer is served\n",
    "    departure_time = np.zeros(total_arrivals)  # the time when the customer leaves the queue\n",
    "\n",
    "    # initialization of service time and arrival time\n",
    "    for i in range(total_arrivals):\n",
    "        service_time[i] = 1 / d\n",
    "    for i in range(1, total_arrivals):\n",
    "        arrival_time[i] = arrival_time[i - 1] + random.expovariate(lam)\n",
    "\n",
    "    departure_time[0] = service_time[0]\n",
    "\n",
    "    # simulation process\n",
    "    for i in range(1, total_arrivals):\n",
    "        if departure_time[i - 1] < arrival_time[i]:\n",
    "            enter_time[i] = arrival_time[i]\n",
    "        else:\n",
    "            enter_time[i] = departure_time[i - 1]\n",
    "        departure_time[i] = enter_time[i] + service_time[i]\n",
    "\n",
    "    delay = departure_time - arrival_time\n",
    "    mean_queue_size = np.sum(delay) / departure_time[total_arrivals - 1]\n",
    "    mean_delay = np.mean(delay)\n",
    "    mean_residual_time = 0.5 * np.sum(np.square(service_time)) / departure_time[total_arrivals - 1]\n",
    "\n",
    "    return mean_queue_size, mean_delay, mean_residual_time"
   ],
   "metadata": {
    "collapsed": false
   }
  },
  {
   "cell_type": "code",
   "execution_count": 34,
   "outputs": [],
   "source": [
    "lam = 3\n",
    "d = 4\n",
    "total_arrivals = 50000\n",
    "loop_time = 200\n",
    "EQ = np.zeros(loop_time)\n",
    "ED = np.zeros(loop_time)\n",
    "EQ_PK = np.zeros(loop_time)\n",
    "ED_PK = np.zeros(loop_time)\n",
    "ER = np.zeros(loop_time)\n",
    "\n",
    "for i in range(loop_time):\n",
    "    EQ[i], ED[i], ER[i] = general_simulation_md1(lam, d, total_arrivals)\n",
    "    ED_PK[i] = ER[i] / (1 - lam / mu) + 1/ mu\n",
    "    EQ_PK[i] = lam * ED_PK[i]\n",
    "\n",
    "residual_time_confidence_interval = stats.norm.interval(alpha = 0.95,\n",
    "                                                        loc = np.mean(ER),\n",
    "                                                        scale = stats.sem(ER))\n",
    "queue_confidence_interval = stats.norm.interval(alpha = 0.95,\n",
    "                                                loc = np.mean(EQ_PK),\n",
    "                                                scale = stats.sem(EQ_PK))\n",
    "delay_confidence_interval = stats.norm.interval(alpha = 0.95,\n",
    "                                                loc = np.mean(ED_PK),\n",
    "                                                scale = stats.sem(ED_PK))"
   ],
   "metadata": {
    "collapsed": false
   }
  },
  {
   "cell_type": "code",
   "execution_count": 35,
   "outputs": [
    {
     "name": "stdout",
     "output_type": "stream",
     "text": [
      "M/D/1 theoretical mean residual time: 0.09375\n",
      "M/D/1 mean residual time: 0.0937252659492502\n",
      "Residual time confidence intervals from PK Formula (0.09366583160341198, 0.09378470029508841)\n",
      "----------------------------------------------------------------------------------------------\n",
      "M/D/1 theoretical mean queue size: 1.875\n",
      "M/D/1 mean queue size from general simulation: 1.873730905943499\n",
      "M/D/1 mean queue size from PK Formula: 1.8747031913910026\n",
      "Queue size confidence intervals from PK Formula (1.873989979240944, 1.8754164035410612)\n",
      "----------------------------------------------------------------------------------------------\n",
      "M/D/1 theoretical mean delay: 0.625\n",
      "M/D/1 mean delay from general simulation: 0.6247100110675019\n",
      "M/D/1 mean delay from PK Formula: 0.6249010637970008\n",
      "Delay confidence intervals from PK Formula (0.624663326413648, 0.6251388011803537)\n"
     ]
    }
   ],
   "source": [
    "rho = lam / d\n",
    "print(\"M/D/1 theoretical mean residual time:\", rho / (2 * mu))\n",
    "print(\"M/D/1 mean residual time:\", np.mean(ER))\n",
    "print(\"Residual time confidence intervals from PK Formula\", residual_time_confidence_interval)\n",
    "print(\"----------------------------------------------------------------------------------------------\")\n",
    "print(\"M/D/1 theoretical mean queue size:\", rho + 0.5 * (rho * rho / (1 - rho)))\n",
    "print(\"M/D/1 mean queue size from general simulation:\", np.mean(EQ))\n",
    "print(\"M/D/1 mean queue size from PK Formula:\", np.mean(EQ_PK))\n",
    "print(\"Queue size confidence intervals from PK Formula\", queue_confidence_interval)\n",
    "print(\"----------------------------------------------------------------------------------------------\")\n",
    "print(\"M/D/1 theoretical mean delay:\", 1 / mu + rho / (2 * mu * (1 - rho)))\n",
    "print(\"M/D/1 mean delay from general simulation:\", np.mean(ED))\n",
    "print(\"M/D/1 mean delay from PK Formula:\", np.mean(ED_PK))\n",
    "print(\"Delay confidence intervals from PK Formula\", delay_confidence_interval)"
   ],
   "metadata": {
    "collapsed": false
   }
  }
 ],
 "metadata": {
  "kernelspec": {
   "display_name": "Python 3",
   "language": "python",
   "name": "python3"
  },
  "language_info": {
   "codemirror_mode": {
    "name": "ipython",
    "version": 2
   },
   "file_extension": ".py",
   "mimetype": "text/x-python",
   "name": "python",
   "nbconvert_exporter": "python",
   "pygments_lexer": "ipython2",
   "version": "2.7.6"
  }
 },
 "nbformat": 4,
 "nbformat_minor": 0
}
