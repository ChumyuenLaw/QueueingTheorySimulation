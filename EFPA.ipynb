{
 "cells": [
  {
   "cell_type": "markdown",
   "source": [
    "# Erlang Fixed-Point Approximation\n",
    "Consider the 4-node ring network shown below.\n",
    "\n",
    "![jupyter](./images/efpa.png)\n",
    "\n",
    "Each of the four links has k = 20 circuits.\n",
    "\n",
    "The traffic demands are as follows.\n",
    "\n",
    "On Route: 4 → 1 → 2, the offered traffic is A(4, 1, 2) = 10 erlangs.\n",
    "\n",
    "On Route: 4 → 1, the offered traffic is A(4, 1) = 11 erlangs.\n",
    "\n",
    "On Route: 1 → 2, the offered traffic is A(1, 2) = 9 erlangs.\n",
    "\n",
    "On Route: 2 → 3 → 4, the offered traffic is A(2, 3, 4) = 9 erlangs.\n",
    "\n",
    "On Route: 2 → 3, the offered traffic is A(2, 3) = 12 erlangs.\n",
    "\n",
    "On Route: 3 → 4, the offered traffic is A(3, 4) = 11 erlangs.\n",
    "\n",
    "Find the blocking probability on routes 4 → 1 → 2, 4 → 1, 1 → 2, 2 → 3, 3 → 4, and 2 → 3 → 4."
   ],
   "metadata": {
    "collapsed": false
   }
  },
  {
   "cell_type": "markdown",
   "source": [
    "## Erlang B Recursion"
   ],
   "metadata": {
    "collapsed": false
   }
  },
  {
   "cell_type": "code",
   "execution_count": 1,
   "outputs": [],
   "source": [
    "import numpy as np"
   ],
   "metadata": {
    "collapsed": false
   }
  },
  {
   "cell_type": "code",
   "execution_count": 2,
   "outputs": [],
   "source": [
    "def erlang_b_recursion(k, A):\n",
    "    E = np.zeros(k + 1)\n",
    "    E[0] = 1\n",
    "    for m in range(1, k + 1):\n",
    "        E[m] = A * E[m - 1] / (m + A * E[m - 1])\n",
    "    return E[k]"
   ],
   "metadata": {
    "collapsed": false
   }
  },
  {
   "cell_type": "markdown",
   "source": [
    "## Traffic Demands of the Network\n",
    "A and B are the Python dictionary (which has the same function as HashMap in Java).\n",
    "\n",
    "The key-value pairs in dictionary A are the route and its corresponding offered traffic.\n",
    "\n",
    "The key-value pairs in dictionary B are the route and its corresponding blocking probability."
   ],
   "metadata": {
    "collapsed": false
   }
  },
  {
   "cell_type": "code",
   "execution_count": 3,
   "outputs": [],
   "source": [
    "# Number of circuits on each link\n",
    "k = 20\n",
    "# Offered traffic on routes (4,1,2), (4,1), (1,2), (2,3,4), (2,3), and (3,4)\n",
    "A = {'412': 10, '41': 11, '12': 9, '234': 9, '23': 12, '34': 11}\n",
    "# Blocking Probability on routes\n",
    "B = {'412': 0, '41': 0, '12': 0, '234': 0, '23': 0, '34': 0}\n",
    "loop_time = 10"
   ],
   "metadata": {
    "collapsed": false
   }
  },
  {
   "cell_type": "markdown",
   "source": [
    "## Blocking Probability for Route (4,1), (1,2), and (4,1,2)"
   ],
   "metadata": {
    "collapsed": false
   }
  },
  {
   "cell_type": "code",
   "execution_count": 4,
   "outputs": [
    {
     "name": "stdout",
     "output_type": "stream",
     "text": [
      "Blocking Probability for route (4, 1): 0.16016011775854586\n",
      "Blocking Probability for route (1, 2): 0.09497676464917473\n",
      "Blocking Probability for route (4, 1, 2): 0.23992539259718304\n"
     ]
    }
   ],
   "source": [
    "# Total traffic offered to link (4,1) from traffic that flow on route (4,1)\n",
    "a41 = A['41']\n",
    "# Total traffic offered to link (1,2) from traffic that flow on route (1,2)\n",
    "a12 = A['12']\n",
    "\n",
    "# a412['41']: Total traffic offered to link (4,1) from traffic that flow on route (4,1,2)\n",
    "# a412['12']: Total traffic offered to link (1,2) from traffic that flow on route (4,1,2)\n",
    "a412 = {'41': 0, '12': 0}\n",
    "\n",
    "for i in range(loop_time):\n",
    "    a412['41'] = A['412'] * (1 - B['12'])\n",
    "    a412['12'] = A['412'] * (1 - B['41'])\n",
    "    B['41'] = erlang_b_recursion(k, A['41'] + a412['41'])\n",
    "    B['12'] = erlang_b_recursion(k, A['12'] + a412['12'])\n",
    "\n",
    "B['412'] = 1 - (1 - B['41']) * (1 - B['12'])\n",
    "print(\"Blocking Probability for route (4, 1):\", B['41'])\n",
    "print(\"Blocking Probability for route (1, 2):\", B['12'])\n",
    "print(\"Blocking Probability for route (4, 1, 2):\", B['412'])"
   ],
   "metadata": {
    "collapsed": false
   }
  },
  {
   "cell_type": "markdown",
   "source": [
    "## Blocking Probability for Route (2,3), (3,4), and (2,3,4)"
   ],
   "metadata": {
    "collapsed": false
   }
  },
  {
   "cell_type": "code",
   "execution_count": 5,
   "outputs": [
    {
     "name": "stdout",
     "output_type": "stream",
     "text": [
      "Blocking Probability for route (2, 3): 0.15602379715292486\n",
      "Blocking Probability for route (3, 4): 0.12373639589713038\n",
      "Blocking Probability for route (2, 3, 4): 0.2604543707161673\n"
     ]
    }
   ],
   "source": [
    "# Total traffic offered to link (2,3) from traffic that flow on route (2,3)\n",
    "a23 = A['23']\n",
    "# Total traffic offered to link (3,4) from traffic that flow on route (3,4)\n",
    "a34 = A['34']\n",
    "\n",
    "# a234['23']: Total traffic offered to link (2,3) from traffic that flow on route (2,3,4)\n",
    "# a234['34']: Total traffic offered to link (3,4) from traffic that flow on route (2,3,4)\n",
    "a234 = {'23': 0, '34': 0}\n",
    "\n",
    "for i in range(loop_time):\n",
    "    a234['23'] = A['234'] * (1 - B['34'])\n",
    "    a234['34'] = A['234'] * (1 - B['23'])\n",
    "    B['23'] = erlang_b_recursion(k, A['23'] + a234['23'])\n",
    "    B['34'] = erlang_b_recursion(k, A['34'] + a234['34'])\n",
    "\n",
    "B['234'] = 1 - (1 - B['23']) * (1 - B['34'])\n",
    "print(\"Blocking Probability for route (2, 3):\", B['23'])\n",
    "print(\"Blocking Probability for route (3, 4):\", B['34'])\n",
    "print(\"Blocking Probability for route (2, 3, 4):\", B['234'])"
   ],
   "metadata": {
    "collapsed": false
   }
  }
 ],
 "metadata": {
  "kernelspec": {
   "display_name": "Python 3",
   "language": "python",
   "name": "python3"
  },
  "language_info": {
   "codemirror_mode": {
    "name": "ipython",
    "version": 2
   },
   "file_extension": ".py",
   "mimetype": "text/x-python",
   "name": "python",
   "nbconvert_exporter": "python",
   "pygments_lexer": "ipython2",
   "version": "2.7.6"
  }
 },
 "nbformat": 4,
 "nbformat_minor": 0
}
