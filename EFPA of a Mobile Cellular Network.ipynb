{
 "cells": [
  {
   "cell_type": "markdown",
   "source": [
    "# EFPA of a Mobile Cellular Network\n",
    "Consider the 49-cell cellular network model with the wrapped-around design depicted in the below figure. Choose your own input parameters for the number of channels per cell, arrival rates, and mean holding times. Use a Markov-chain simulation to approximate the overall blocking and dropping probabilities in this network. For the same 49-cell network, obtain the blocking probability using EFPA. Compare the results of the two approaches for a range of parameter values.\n",
    "\n",
    "![jupyter](./images/cellular_network.png)"
   ],
   "metadata": {
    "collapsed": false
   }
  },
  {
   "cell_type": "markdown",
   "source": [
    "## Erlang B Recursion"
   ],
   "metadata": {
    "collapsed": false
   }
  },
  {
   "cell_type": "code",
   "execution_count": 21,
   "outputs": [],
   "source": [
    "import numpy as np"
   ],
   "metadata": {
    "collapsed": false
   }
  },
  {
   "cell_type": "code",
   "execution_count": 22,
   "outputs": [],
   "source": [
    "def erlang_b_recursion(k, A):\n",
    "    E = np.zeros(k + 1)\n",
    "    E[0] = 1\n",
    "    for m in range(1, k + 1):\n",
    "        E[m] = A * E[m - 1] / (m + A * E[m - 1])\n",
    "    return E[k]"
   ],
   "metadata": {
    "collapsed": false
   }
  },
  {
   "cell_type": "markdown",
   "source": [
    "## Model Initialization"
   ],
   "metadata": {
    "collapsed": false
   }
  },
  {
   "cell_type": "code",
   "execution_count": 23,
   "outputs": [],
   "source": [
    "# total number of the cells\n",
    "num_cell = 49\n",
    "# arrival rate of new calls to the cells\n",
    "lam = np.ones(num_cell) * 6\n",
    "# call holding rate (service rate) of the cells\n",
    "mu = 2\n",
    "# cell dwelling rate\n",
    "delta = 0.2\n",
    "# channel number of the cells\n",
    "k = 10\n",
    "# Total call arrival rate to the cells\n",
    "theta = np.ones(num_cell)\n",
    "# Probability of a handoff from cell i to cell j given that the call will hand off\n",
    "prob_i_j = np.ones((num_cell, 6)) * (delta / (delta + mu)) / 6\n",
    "# Blocking Probability for new and handoff calls at the cells\n",
    "prob_blocking = np.zeros(num_cell)\n",
    "accuracy = 0.00001\n",
    "\n",
    "neighbours = {1:[2,7,8,9,46,47],\n",
    "              2:[1,3,9,10,47,48],\n",
    "              3:[2,4,10,11,48,49],\n",
    "              4:[3,4,5,11,12,43,49],\n",
    "              5:[4,6,12,13,43,44],\n",
    "              6:[5,7,13,14,44,45],\n",
    "              7:[1,6,8,14,45,46],\n",
    "              8:[1,7,9,14,15,21],\n",
    "              9:[1,2,8,10,15,16],\n",
    "              10:[2,3,9,11,16,17],\n",
    "              11:[3,4,10,12,17,18],\n",
    "              12:[4,5,11,13,18,19],\n",
    "              13:[5,6,12,14,19,20],\n",
    "              14:[6,7,8,13,20,21],\n",
    "              15:[8,9,16,21,22,23],\n",
    "              16:[9,10,15,17,23,24],\n",
    "              17:[10,11,16,18,24,25],\n",
    "              18:[11,12,17,19,25,26],\n",
    "              19:[12,13,18,20,26,27],\n",
    "              20:[13,14,19,21,27,28],\n",
    "              21:[8,14,15,20,22,28],\n",
    "              22:[15,21,23,28,29,35],\n",
    "              23:[15,16,22,24,29,30],\n",
    "              24:[16,17,23,25,30,31],\n",
    "              25:[17,18,24,26,31,32],\n",
    "              26:[18,19,25,27,32,33],\n",
    "              27:[19,20,26,28,33,34],\n",
    "              28:[20,21,22,27,34,35],\n",
    "              29:[22,23,30,35,36,37],\n",
    "              30:[23,24,29,31,37,38],\n",
    "              31:[24,25,30,32,38,39],\n",
    "              32:[25,25,31,33,39,40],\n",
    "              33:[26,27,32,34,40,41],\n",
    "              34:[27,28,33,35,41,42],\n",
    "              35:[22,28,29,34,36,42],\n",
    "              36:[29,35,37,42,43,49],\n",
    "              37:[29,30,36,38,43,44],\n",
    "              38:[30,31,37,39,44,45],\n",
    "              39:[31,32,38,40,45,46],\n",
    "              40:[32,33,39,41,46,47],\n",
    "              41:[33,34,40,42,47,48],\n",
    "              42:[34,35,41,36,48,49],\n",
    "              43:[4,5,36,37,44,49],\n",
    "              44:[5,6,37,38,43,45],\n",
    "              45:[6,7,38,39,44,46],\n",
    "              46:[1,7,39,40,45,47],\n",
    "              47:[1,2,40,41,46,48],\n",
    "              48:[2,3,41,42,47,49],\n",
    "              49:[3,4,36,42,43,48]}\n",
    "neighbours_size = 6"
   ],
   "metadata": {
    "collapsed": false
   }
  },
  {
   "cell_type": "markdown",
   "source": [
    "## EFPA Simulation\n",
    "Following the guideline of Slides P504, the EFPA algorithm can be implemented easily.\n",
    "\n",
    "The parameters of the EFPA are the same as the Markov Chain simulation. They are: $\\mu=2$, $\\lambda=6$, $\\delta=0.2$, $k=10$, $P\\left(i,n\\right)=\\frac{1}{6}$. The accuracy is 0.00001.\n",
    "\n",
    "The blocking probability obtained by EFPA is 0.0008119904491993213, which is very similar to the results of the Markov Chain simulation. It also lies in the confidence interval of the Markov Chain simulation from *Markov Chain Simulation of a Mobile Cellular Network.ipynb*, which is (0.0007695753518549943, 0.0008408246481450055)."
   ],
   "metadata": {
    "collapsed": false
   }
  },
  {
   "cell_type": "code",
   "execution_count": 24,
   "outputs": [
    {
     "name": "stdout",
     "output_type": "stream",
     "text": [
      "Blocking Probability (EFPA): 0.0008119904491993213\n"
     ]
    }
   ],
   "source": [
    "pre = np.zeros(num_cell)\n",
    "while np.abs(pre - theta).any() > accuracy:\n",
    "    for i in range(num_cell):\n",
    "        prob_blocking[i] = erlang_b_recursion(k, theta[i] / (mu + delta))\n",
    "        neighbour_of_cell_i = np.asarray(neighbours[i + 1]) - 1\n",
    "        neighbour_theta = theta[neighbour_of_cell_i]\n",
    "        neighbour_prob_blocking = prob_blocking[neighbour_of_cell_i]\n",
    "        prob_j_i = (delta / (delta + mu)) / 6\n",
    "        pre[i] = theta[i]\n",
    "        theta[i] = lam[i] + np.sum((1 - neighbour_prob_blocking) * neighbour_theta * prob_j_i)\n",
    "\n",
    "overall_prob_blocking = np.sum(prob_blocking * theta) / np.sum(theta)\n",
    "print(\"Blocking Probability (EFPA):\", overall_prob_blocking)"
   ],
   "metadata": {
    "collapsed": false
   }
  }
 ],
 "metadata": {
  "kernelspec": {
   "display_name": "Python 3",
   "language": "python",
   "name": "python3"
  },
  "language_info": {
   "codemirror_mode": {
    "name": "ipython",
    "version": 2
   },
   "file_extension": ".py",
   "mimetype": "text/x-python",
   "name": "python",
   "nbconvert_exporter": "python",
   "pygments_lexer": "ipython2",
   "version": "2.7.6"
  }
 },
 "nbformat": 4,
 "nbformat_minor": 0
}
