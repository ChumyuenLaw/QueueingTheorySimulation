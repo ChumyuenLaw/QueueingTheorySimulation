{
 "cells": [
  {
   "cell_type": "markdown",
   "id": "9b6dcbda",
   "metadata": {},
   "source": [
    "# P/P/1 and U/U/1 Queue Size Evaluation"
   ]
  },
  {
   "cell_type": "markdown",
   "source": [
    "In class, Prof. Moshe said there were two methods for finding the queue size of G/G/1 models with the **arrival process that does not follow a Poisson process**. They are: (Slides P271)\n",
    "\n",
    "1. Use a separate independent Poisson inspector.\n",
    "\n",
    "2. Consider both the queue-size measurements and the time they remain at that level.\n",
    "\n",
    "This notebook calculates the mean queue size of P/P/1 and U/U/1 using method 1."
   ],
   "metadata": {
    "collapsed": false
   }
  },
  {
   "cell_type": "code",
   "execution_count": 2,
   "id": "c1087f3d",
   "metadata": {},
   "outputs": [],
   "source": [
    "from scipy.stats import pareto\n",
    "from scipy.stats import expon\n",
    "import numpy as np"
   ]
  },
  {
   "cell_type": "markdown",
   "source": [
    "Using the Poisson inspector, be aware that we should calculate **the queue size at the time of the inspector** instead of the queue size **on arrival**."
   ],
   "metadata": {
    "collapsed": false
   }
  },
  {
   "cell_type": "markdown",
   "source": [
    "## P/P/1 Simulation\n",
    "For the **P/P/1** simulation, the parameters of the **inter-arrival time** are $\\alpha=3$ and $x_{\\min}=1$, and the parameters of the **service time** are $\\alpha=5$ and $x_{\\min}=1$. Theoretically, the arrival rate should be $\\frac{1}{MeanInterArrivalTime}=\\frac{1}{\\frac{x_{\\min}\\times\\alpha}{\\alpha-1}}=\\frac{2}{3}$."
   ],
   "metadata": {
    "collapsed": false
   }
  },
  {
   "cell_type": "code",
   "execution_count": 3,
   "id": "183ef2eb",
   "metadata": {},
   "outputs": [],
   "source": [
    "arr_alpha = 3  # arrival alpha\n",
    "arr_x_min = 1  # arrival minimum x\n",
    "service_alpha = 5  # service alpha\n",
    "service_x_min = 1  # service minimum x\n",
    "total_arrivals = 10000\n",
    "\n",
    "arrival_time = np.zeros(total_arrivals) # the time when the customer arrives \n",
    "service_time = np.zeros(total_arrivals) # the service time\n",
    "enter_time = np.zeros(total_arrivals)   # the time when the customer is served\n",
    "departure_time = np.zeros(total_arrivals)  # the time when the customer leaves the queue\n",
    "\n",
    "# initialization of service time and arrival time\n",
    "for i in range(total_arrivals):\n",
    "    service_time[i] = pareto.rvs(service_alpha, scale = service_x_min)\n",
    "for i in range(1, total_arrivals):\n",
    "    inter_arrival_time = pareto.rvs(arr_alpha, scale = arr_x_min)\n",
    "    arrival_time[i] = arrival_time[i - 1] + inter_arrival_time\n",
    "    \n",
    "departure_time[0] = service_time[0]\n",
    "\n",
    "# simulation process\n",
    "for i in range(1, total_arrivals):\n",
    "    if departure_time[i - 1] < arrival_time[i]:\n",
    "        enter_time[i] = arrival_time[i]\n",
    "    else:\n",
    "        enter_time[i] = departure_time[i - 1]\n",
    "    departure_time[i] = enter_time[i] + service_time[i]"
   ]
  },
  {
   "cell_type": "code",
   "execution_count": 4,
   "id": "1dedb54a",
   "metadata": {},
   "outputs": [
    {
     "name": "stdout",
     "output_type": "stream",
     "text": [
      "E[Delay] = 1.7281327678042582\n",
      "E[Delay2] = 1.7168634279660895\n",
      "E[Q] = 1.135009122237989\n"
     ]
    }
   ],
   "source": [
    "rate = 1 # lambda\n",
    "T = departure_time[total_arrivals - 1]\n",
    "current_time = 0\n",
    "selectedMoments = []\n",
    "while current_time < T:\n",
    "    point = expon.rvs(scale = 1 / rate)\n",
    "    current_time += point\n",
    "    selectedMoments.append(current_time)\n",
    "\n",
    "delay = np.zeros(len(selectedMoments))\n",
    "queue_size = np.zeros(len(selectedMoments))\n",
    "for i in range(len(selectedMoments)):\n",
    "    idx_departure = np.searchsorted(departure_time, selectedMoments[i]) - 1\n",
    "    idx_arrival = np.searchsorted(arrival_time, selectedMoments[i]) - 1\n",
    "    delay[i] = departure_time[idx_arrival] - arrival_time[idx_arrival]\n",
    "    queue_size[i] = idx_arrival - idx_departure\n",
    "delay2 = departure_time - arrival_time\n",
    "mean_queue_size = np.sum(delay2) / departure_time[total_arrivals - 1]\n",
    "print(\"E[Delay] =\", np.mean(delay))\n",
    "print(\"E[Delay2] =\", np.mean(delay2))\n",
    "print(\"E[Q] =\", np.mean(queue_size))"
   ]
  },
  {
   "cell_type": "markdown",
   "source": [
    "Check the result using Little's formula:\n",
    "\n",
    "$1.7168*\\frac{2}{3}=1.1145$"
   ],
   "metadata": {
    "collapsed": false
   }
  },
  {
   "cell_type": "markdown",
   "id": "1b6d1c71",
   "metadata": {},
   "source": [
    "## U/U/1 Simulation"
   ]
  },
  {
   "cell_type": "code",
   "execution_count": 5,
   "id": "c8704c89",
   "metadata": {},
   "outputs": [],
   "source": [
    "total_arrivals = 10000\n",
    "\n",
    "arrival_time = np.zeros(total_arrivals) # the time when the customer arrives \n",
    "service_time = np.zeros(total_arrivals) # the service time\n",
    "enter_time = np.zeros(total_arrivals)   # the time when the customer is served\n",
    "departure_time = np.zeros(total_arrivals)  # the time when the customer leaves the queue\n",
    "\n",
    "# initialization of service time and arrival time\n",
    "for i in range(total_arrivals):\n",
    "    service_time[i] = np.random.uniform(0, 1)\n",
    "for i in range(1, total_arrivals):\n",
    "    inter_arrival_time = np.random.uniform(0, 2)\n",
    "    arrival_time[i] = arrival_time[i - 1] + inter_arrival_time\n",
    "    \n",
    "departure_time[0] = service_time[0]\n",
    "\n",
    "# simulation process\n",
    "for i in range(1, total_arrivals):\n",
    "    if departure_time[i - 1] < arrival_time[i]:\n",
    "        enter_time[i] = arrival_time[i]\n",
    "    else:\n",
    "        enter_time[i] = departure_time[i - 1]\n",
    "    departure_time[i] = enter_time[i] + service_time[i]"
   ]
  },
  {
   "cell_type": "code",
   "execution_count": 6,
   "id": "4456eb0b",
   "metadata": {},
   "outputs": [
    {
     "name": "stdout",
     "output_type": "stream",
     "text": [
      "E[Delay] = 0.6426515341547101\n",
      "E[Delay2] = 0.6404755813597428\n",
      "E[Q] = 0.6431201550387597\n"
     ]
    }
   ],
   "source": [
    "rate = 1 # lambda\n",
    "T = departure_time[total_arrivals - 1]\n",
    "current_time = 0\n",
    "selectedMoments = []\n",
    "while current_time < T:\n",
    "    point = expon.rvs(scale = 1 / rate)\n",
    "    current_time += point\n",
    "    selectedMoments.append(current_time)\n",
    "\n",
    "delay = np.zeros(len(selectedMoments))\n",
    "queue_size = np.zeros(len(selectedMoments))\n",
    "for i in range(len(selectedMoments)):\n",
    "    idx_departure = np.searchsorted(departure_time, selectedMoments[i]) - 1\n",
    "    idx_arrival = np.searchsorted(arrival_time, selectedMoments[i]) - 1\n",
    "    delay[i] = departure_time[idx_arrival] - arrival_time[idx_arrival]\n",
    "    queue_size[i] = idx_arrival - idx_departure\n",
    "    \n",
    "delay2 = departure_time - arrival_time\n",
    "print(\"E[Delay] =\", np.mean(delay))\n",
    "print(\"E[Delay2] =\", np.mean(delay2))\n",
    "print(\"E[Q] =\", np.mean(queue_size))"
   ]
  },
  {
   "cell_type": "markdown",
   "source": [
    "## Acknowledge\n",
    "Many thanks to Ms. Linjun DAI for helping me debug."
   ],
   "metadata": {
    "collapsed": false
   }
  }
 ],
 "metadata": {
  "kernelspec": {
   "display_name": "Python 3 (ipykernel)",
   "language": "python",
   "name": "python3"
  },
  "language_info": {
   "codemirror_mode": {
    "name": "ipython",
    "version": 3
   },
   "file_extension": ".py",
   "mimetype": "text/x-python",
   "name": "python",
   "nbconvert_exporter": "python",
   "pygments_lexer": "ipython3",
   "version": "3.9.12"
  }
 },
 "nbformat": 4,
 "nbformat_minor": 5
}
