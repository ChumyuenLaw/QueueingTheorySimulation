{
 "cells": [
  {
   "cell_type": "markdown",
   "source": [
    "# Markov Chain Simulation of M/M/k/k\n",
    "Simulate an M/M/k/k queue based on the Markov-chain simulation principles to evaluate the blocking probability for a wide range of parameter values. Provide confidence intervals. Compare the simulation results with results obtained by the Erlang B Formula. (Slides P374)"
   ],
   "metadata": {
    "collapsed": false
   }
  },
  {
   "cell_type": "code",
   "execution_count": 162,
   "outputs": [],
   "source": [
    "import numpy as np\n",
    "import random\n",
    "import scipy.stats as stats\n",
    "import pandas as pd"
   ],
   "metadata": {
    "collapsed": false
   }
  },
  {
   "cell_type": "markdown",
   "source": [
    "## Markov Chain Simulation\n",
    "For the **M/M/k/k simulation**, Prof. Moshe provided a pseudo code on Slides P369-370. It is quite simple, and I am sure everyone can implement it easily."
   ],
   "metadata": {
    "collapsed": false
   }
  },
  {
   "cell_type": "code",
   "execution_count": 163,
   "outputs": [],
   "source": [
    "def markov_chain_mmkk(k, lam, mu, MAXN):\n",
    "    Q = 0 # queue size\n",
    "    Na = 0 # number of arrivals so far\n",
    "    Nb = 0 # number of blocked customers\n",
    "\n",
    "    while Na < MAXN:\n",
    "        if random.random() <= lam / (lam + Q * mu):\n",
    "            Na += 1\n",
    "            if Q == k:\n",
    "                Nb += 1\n",
    "            else:\n",
    "                Q += 1\n",
    "        else:\n",
    "            Q -= 1\n",
    "    Bp = Nb / Na\n",
    "\n",
    "    return Bp"
   ],
   "metadata": {
    "collapsed": false
   }
  },
  {
   "cell_type": "markdown",
   "source": [
    "## Erlang B Formula\n",
    "For the **Erlang B formula**, Slides P373 provides an easy way, **the Erlang B recursion**, to calculate.\n",
    "\n",
    "A good way to implement the Erlang B recursion is by using **Dynamic Programming (DP)**.\n",
    "\n",
    "There are **4 key steps** of dynamic programming we need to know before coding:\n",
    "\n",
    "1. Find out the meaning of the DP array: in this case, DP[i] is the blocking probability of an M/M/i/i queue.\n",
    "\n",
    "2. Find out the state-transition equation: in this case, the equation is $E_m\\left(A\\right)=\\frac{AE_{m-1}\\left(A\\right)}{m+AE_{m-1}\\left(A\\right)}$.\n",
    "\n",
    "3. Initialization of the DP array: in this case DP[0] = 1.\n",
    "\n",
    "4. Find out the direction of the traversal: based on the state-transition equation, we should traverse from the beginning to the end.\n",
    "\n",
    "**Tips:** Since we want to calculate the blocking probabilities of queues with server numbers from 0 to k, the size of the DP array should be **k + 1**."
   ],
   "metadata": {
    "collapsed": false
   }
  },
  {
   "cell_type": "code",
   "execution_count": 164,
   "outputs": [],
   "source": [
    "def erlang_b_recursion(k, lam, mu):\n",
    "    A = lam / mu\n",
    "    E = np.zeros(k + 1)\n",
    "    E[0] = 1\n",
    "    for m in range(1, k + 1):\n",
    "        E[m] = A * E[m - 1] / (m + A * E[m - 1])\n",
    "    return E"
   ],
   "metadata": {
    "collapsed": false
   }
  },
  {
   "cell_type": "markdown",
   "source": [
    "## Comparison of the Blocking Probability"
   ],
   "metadata": {
    "collapsed": false
   }
  },
  {
   "cell_type": "code",
   "execution_count": 165,
   "outputs": [],
   "source": [
    "k = 10\n",
    "lam = 15\n",
    "mu = 5\n",
    "total_arrivals = 50000\n",
    "loop_time = 500\n",
    "\n",
    "mean_block_probability = np.zeros(k + 1)\n",
    "confidence_intervals = []\n",
    "t_confidence_intervals = []\n",
    "mean_block_probability[0] = 1\n",
    "confidence_intervals.append([1, 1])\n",
    "isInConfidenceIntervals = []\n",
    "\n",
    "for avail_servers in range(1, k + 1):\n",
    "    block_probability_markov_chain = np.zeros(loop_time)\n",
    "    for i in range(loop_time):\n",
    "        block_probability_markov_chain[i] = markov_chain_mmkk(avail_servers, lam, mu, total_arrivals)\n",
    "    mean = np.mean(block_probability_markov_chain)\n",
    "    mk_confidence_interval = stats.norm.interval(alpha = 0.95,\n",
    "                                                 loc = mean,\n",
    "                                                 scale = stats.sem(block_probability_markov_chain))\n",
    "    mean_block_probability[avail_servers] = mean\n",
    "    confidence_intervals.append(mk_confidence_interval)\n",
    "\n",
    "block_probability_erlang_b_recursion = erlang_b_recursion(k, lam, mu)\n",
    "\n",
    "for i in range(k + 1):\n",
    "    if (block_probability_erlang_b_recursion[i] >= confidence_intervals[i][0]) and (block_probability_erlang_b_recursion[i] <= confidence_intervals[i][1]):\n",
    "        isInConfidenceIntervals.append(True)\n",
    "    else:\n",
    "        isInConfidenceIntervals.append(False)"
   ],
   "metadata": {
    "collapsed": false
   }
  },
  {
   "cell_type": "markdown",
   "source": [
    "Parameters: $k=10$, $\\lambda=15$, $\\mu=5$, $MAXN_a=50000$, $LoopTime=500$. The table below shows the results.\n",
    "\n",
    "The distances between the blocking probabilities are quite small. The results of Erlang B recursion all sit in the corresponding confidence intervals."
   ],
   "metadata": {
    "collapsed": false
   }
  },
  {
   "cell_type": "code",
   "execution_count": 166,
   "outputs": [
    {
     "data": {
      "text/plain": "    Available Servers  Erlang B Recursion Pb  Markov Chain Pb  \\\n0                 0.0               1.000000         1.000000   \n1                 1.0               0.750000         0.750032   \n2                 2.0               0.529412         0.529489   \n3                 3.0               0.346154         0.346110   \n4                 4.0               0.206107         0.206000   \n5                 5.0               0.110054         0.110031   \n6                 6.0               0.052157         0.052145   \n7                 7.0               0.021864         0.021859   \n8                 8.0               0.008132         0.008163   \n9                 9.0               0.002703         0.002712   \n10               10.0               0.000810         0.000807   \n\n            Markov Chain Norm Confidence Intervals  IsInConfidenceIntervals  \n0                                           [1, 1]                     True  \n1         (0.7498664184132776, 0.7501975015867225)                     True  \n2         (0.5292495283176231, 0.5297276716823767)                     True  \n3         (0.3458620705229983, 0.3463579294770018)                     True  \n4       (0.20578533796422327, 0.20621490203577675)                     True  \n5       (0.10984623950583265, 0.11021584049416737)                     True  \n6       (0.05201883891815743, 0.05227140108184256)                     True  \n7     (0.021771234322060292, 0.021945885677939706)                     True  \n8     (0.008108770529200534, 0.008216429470799468)                     True  \n9   (0.0026828406624241257, 0.0027415593375758746)                     True  \n10  (0.0007914274090462307, 0.0008230525909537692)                     True  ",
      "text/html": "<div>\n<style scoped>\n    .dataframe tbody tr th:only-of-type {\n        vertical-align: middle;\n    }\n\n    .dataframe tbody tr th {\n        vertical-align: top;\n    }\n\n    .dataframe thead th {\n        text-align: right;\n    }\n</style>\n<table border=\"1\" class=\"dataframe\">\n  <thead>\n    <tr style=\"text-align: right;\">\n      <th></th>\n      <th>Available Servers</th>\n      <th>Erlang B Recursion Pb</th>\n      <th>Markov Chain Pb</th>\n      <th>Markov Chain Norm Confidence Intervals</th>\n      <th>IsInConfidenceIntervals</th>\n    </tr>\n  </thead>\n  <tbody>\n    <tr>\n      <th>0</th>\n      <td>0.0</td>\n      <td>1.000000</td>\n      <td>1.000000</td>\n      <td>[1, 1]</td>\n      <td>True</td>\n    </tr>\n    <tr>\n      <th>1</th>\n      <td>1.0</td>\n      <td>0.750000</td>\n      <td>0.750032</td>\n      <td>(0.7498664184132776, 0.7501975015867225)</td>\n      <td>True</td>\n    </tr>\n    <tr>\n      <th>2</th>\n      <td>2.0</td>\n      <td>0.529412</td>\n      <td>0.529489</td>\n      <td>(0.5292495283176231, 0.5297276716823767)</td>\n      <td>True</td>\n    </tr>\n    <tr>\n      <th>3</th>\n      <td>3.0</td>\n      <td>0.346154</td>\n      <td>0.346110</td>\n      <td>(0.3458620705229983, 0.3463579294770018)</td>\n      <td>True</td>\n    </tr>\n    <tr>\n      <th>4</th>\n      <td>4.0</td>\n      <td>0.206107</td>\n      <td>0.206000</td>\n      <td>(0.20578533796422327, 0.20621490203577675)</td>\n      <td>True</td>\n    </tr>\n    <tr>\n      <th>5</th>\n      <td>5.0</td>\n      <td>0.110054</td>\n      <td>0.110031</td>\n      <td>(0.10984623950583265, 0.11021584049416737)</td>\n      <td>True</td>\n    </tr>\n    <tr>\n      <th>6</th>\n      <td>6.0</td>\n      <td>0.052157</td>\n      <td>0.052145</td>\n      <td>(0.05201883891815743, 0.05227140108184256)</td>\n      <td>True</td>\n    </tr>\n    <tr>\n      <th>7</th>\n      <td>7.0</td>\n      <td>0.021864</td>\n      <td>0.021859</td>\n      <td>(0.021771234322060292, 0.021945885677939706)</td>\n      <td>True</td>\n    </tr>\n    <tr>\n      <th>8</th>\n      <td>8.0</td>\n      <td>0.008132</td>\n      <td>0.008163</td>\n      <td>(0.008108770529200534, 0.008216429470799468)</td>\n      <td>True</td>\n    </tr>\n    <tr>\n      <th>9</th>\n      <td>9.0</td>\n      <td>0.002703</td>\n      <td>0.002712</td>\n      <td>(0.0026828406624241257, 0.0027415593375758746)</td>\n      <td>True</td>\n    </tr>\n    <tr>\n      <th>10</th>\n      <td>10.0</td>\n      <td>0.000810</td>\n      <td>0.000807</td>\n      <td>(0.0007914274090462307, 0.0008230525909537692)</td>\n      <td>True</td>\n    </tr>\n  </tbody>\n</table>\n</div>"
     },
     "execution_count": 166,
     "metadata": {},
     "output_type": "execute_result"
    }
   ],
   "source": [
    "pd.DataFrame({\n",
    "    \"Available Servers\": np.linspace(0, k, k + 1),\n",
    "    \"Erlang B Recursion Pb\": block_probability_erlang_b_recursion,\n",
    "    \"Markov Chain Pb\": mean_block_probability,\n",
    "    \"Markov Chain Norm Confidence Intervals\": confidence_intervals,\n",
    "    \"IsInConfidenceIntervals\": isInConfidenceIntervals,\n",
    "})"
   ],
   "metadata": {
    "collapsed": false
   }
  }
 ],
 "metadata": {
  "kernelspec": {
   "display_name": "Python 3",
   "language": "python",
   "name": "python3"
  },
  "language_info": {
   "codemirror_mode": {
    "name": "ipython",
    "version": 2
   },
   "file_extension": ".py",
   "mimetype": "text/x-python",
   "name": "python",
   "nbconvert_exporter": "python",
   "pygments_lexer": "ipython2",
   "version": "2.7.6"
  }
 },
 "nbformat": 4,
 "nbformat_minor": 0
}
