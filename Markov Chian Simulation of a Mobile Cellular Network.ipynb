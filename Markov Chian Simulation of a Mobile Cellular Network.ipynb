{
 "cells": [
  {
   "cell_type": "markdown",
   "source": [
    "# Markov Chain Simulation of a Mobile Cellular Network\n",
    "Consider the 49-cell cellular network model with the wrapped-around design depicted in the below figure. Choose your own input parameters for the number of channels per cell, arrival rates, and mean holding times. Use a Markov-chain simulation to approximate the overall blocking and dropping probabilities in this network. For the same 49-cell network, obtain the blocking probability using EFPA. Compare the results of the two approaches for a range of parameter values.\n",
    "\n",
    "![jupyter](./images/cellular_network.png)"
   ],
   "metadata": {
    "collapsed": false
   }
  },
  {
   "cell_type": "code",
   "execution_count": 22,
   "outputs": [],
   "source": [
    "import random as random\n",
    "import numpy as np\n",
    "import scipy.stats as stats"
   ],
   "metadata": {
    "collapsed": false
   }
  },
  {
   "cell_type": "markdown",
   "source": [
    "## Model Generation\n",
    "A better illustration of the pseudo-code of the slides:\n",
    "\n",
    "```\n",
    "while sum(Na) < MAXNa:\n",
    "    if R1(01) < sum(lambda) / (sum(lambda) + sum(Q * mu) + sum(Q * delta)):\n",
    "        for i in m:\n",
    "            if R2(01) <= sum(lambda[0:i]) / sum(lambda)\n",
    "                Na[i]++\n",
    "                if Q[i] < k:\n",
    "                    Q[i]++\n",
    "                else:\n",
    "                    Nb[i]++\n",
    "                break\n",
    "    else if R1(01) < (sum(lambda) + sum(Q * mu)) / (sum(lambda) + sum(Q * mu) + sum(Q * delta)):\n",
    "        for i in m:\n",
    "            if R2(01) <= sum(Q[0:i] * mu) / sum(Q * mu):\n",
    "                Q[i]--\n",
    "                break\n",
    "    else:\n",
    "        for i in m:\n",
    "            if R2(01) <= sum(Q[0:i] * delta[0:i]) / sum(Q * delta):\n",
    "                Q[i]--\n",
    "                from_cell = i\n",
    "                break\n",
    "        for i in Neig[from_cell].length:\n",
    "            if R3(01) <= sum(P(from_cell, 0:i)):\n",
    "                to_cell = Neig[from_cell][i]\n",
    "                Nh[to_cell]++\n",
    "                if Q[to_cell] == k:\n",
    "                    Nd[to_cell]++\n",
    "                else:\n",
    "                    Q[to_cell]++\n",
    "                break\n",
    "Pb = sum(Nb) / MAXNa\n",
    "Pd = sum(Nd) / sum(Nh)\n",
    "```\n",
    "Be aware that every R(01) in their loops should remain the same."
   ],
   "metadata": {
    "collapsed": false
   }
  },
  {
   "cell_type": "code",
   "execution_count": 23,
   "outputs": [],
   "source": [
    "def markov_chain_cellular_network(num_cell, total_arrivals, mu, lam, handover_probability, delta, k, neighbours):\n",
    "    queue_size = np.zeros(num_cell) # Q(i)\n",
    "    blocking_probability = 0.0 # Pb\n",
    "    dropping_probability = 0.0 # Pd\n",
    "    num_current_arrivals = np.zeros(num_cell) # Na\n",
    "    num_blocked_new_calls = np.zeros(num_cell) # Nb\n",
    "    num_handovers = np.zeros(num_cell) # Nh\n",
    "    num_drop = np.zeros(num_cell) # Nd\n",
    "    neighbours_size = 6\n",
    "\n",
    "    while np.sum(num_current_arrivals) < total_arrivals:\n",
    "        ran = random.random()\n",
    "        # arrival\n",
    "        if ran <= np.sum(lam) / (np.sum(lam) + np.sum(queue_size * mu) + np.sum(queue_size * delta)):\n",
    "            # find out in which of the cell the arrival occurs\n",
    "            ran_2 = random.random()\n",
    "            for i in range(num_cell):\n",
    "                if ran_2 <= np.sum(lam[0 : i + 1]) / np.sum(lam):\n",
    "                    num_current_arrivals[i] += 1\n",
    "                    if queue_size[i] < k:\n",
    "                        queue_size[i] += 1\n",
    "                    else:\n",
    "                        num_blocked_new_calls[i] += 1\n",
    "                    break\n",
    "        # departure\n",
    "        elif ran <= (np.sum(lam) + np.sum(queue_size * mu)) / (np.sum(lam) + np.sum(queue_size * mu) + np.sum(queue_size * delta)):\n",
    "            # find out in which of the cell the departure occurs\n",
    "            ran_2 = random.random()\n",
    "            for i in range(num_cell):\n",
    "                if ran_2 <= np.sum(queue_size[0 : i + 1] * mu) / np.sum(queue_size * mu):\n",
    "                    queue_size[i] -= 1\n",
    "                    break\n",
    "        # handover\n",
    "        else:\n",
    "            # find out from which of the cell it handovers out of (from_cell)\n",
    "            ran_2 = random.random()\n",
    "            from_cell = -1\n",
    "            for i in range(num_cell):\n",
    "                if ran_2 <= np.sum(queue_size[0 : i + 1] * delta[0 : i + 1]) / np.sum(queue_size * delta):\n",
    "                    queue_size[i] -= 1\n",
    "                    from_cell = i # cell index\n",
    "                    break\n",
    "            # find out into which cell the call handover in (to_cell)\n",
    "            ran_3 = random.random()\n",
    "            neighbour = neighbours[from_cell + 1]\n",
    "            prob_i_n = handover_probability[from_cell]\n",
    "            for j in range(neighbours_size):\n",
    "                if ran_3 <= np.sum(prob_i_n[0 : j + 1]):\n",
    "                    to_cell = neighbour[j] - 1 # cell index\n",
    "                    num_handovers[to_cell] += 1\n",
    "                    if queue_size[to_cell] == k:\n",
    "                        num_drop[to_cell] += 1\n",
    "                    else:\n",
    "                        queue_size[to_cell] += 1\n",
    "                    break\n",
    "\n",
    "    blocking_probability = np.sum(num_blocked_new_calls) / total_arrivals\n",
    "    dropping_probability = np.sum(num_drop) / np.sum(num_handovers)\n",
    "    return blocking_probability, dropping_probability"
   ],
   "metadata": {
    "collapsed": false
   }
  },
  {
   "cell_type": "markdown",
   "source": [
    "For the parameters, to compare the results with EFPA, I set all the parameters of the cells to the same. They are: $\\mu=2$, $\\lambda=6$, $\\delta=0.2$, $k=10$, $P\\left(i,n\\right)=\\frac{1}{6}$, $MAXN_a=100,000$.\n",
    "\n",
    "To obtain the confidence interval of the blocking probability, I ran the simulation program 25 times. Below is the result.\n",
    "\n",
    "The blocking probability is 0.0008052, with a confidence interval of (0.0007695753518549943, 0.0008408246481450055)."
   ],
   "metadata": {
    "collapsed": false
   }
  },
  {
   "cell_type": "code",
   "execution_count": 25,
   "outputs": [
    {
     "name": "stdout",
     "output_type": "stream",
     "text": [
      "Blocking Probability (Markov Chain): 0.0008052\n",
      "Blocking Probability Confidence Interval (Markov Chain):  (0.0007695753518549943, 0.0008408246481450055)\n"
     ]
    }
   ],
   "source": [
    "num_cell = 49 # m\n",
    "total_arrivals = 100000 # MAXNa\n",
    "mu = 2\n",
    "lam = np.ones(num_cell) * 6\n",
    "handover_probability = np.ones((num_cell, 6)) / 6\n",
    "delta = np.ones(num_cell) * 0.2\n",
    "k = 10\n",
    "neighbours = {1:[2,7,8,9,46,47],\n",
    "              2:[1,3,9,10,47,48],\n",
    "              3:[2,4,10,11,48,49],\n",
    "              4:[3,4,5,11,12,43,49],\n",
    "              5:[4,6,12,13,43,44],\n",
    "              6:[5,7,13,14,44,45],\n",
    "              7:[1,6,8,14,45,46],\n",
    "              8:[1,7,9,14,15,21],\n",
    "              9:[1,2,8,10,15,16],\n",
    "              10:[2,3,9,11,16,17],\n",
    "              11:[3,4,10,12,17,18],\n",
    "              12:[4,5,11,13,18,19],\n",
    "              13:[5,6,12,14,19,20],\n",
    "              14:[6,7,8,13,20,21],\n",
    "              15:[8,9,16,21,22,23],\n",
    "              16:[9,10,15,17,23,24],\n",
    "              17:[10,11,16,18,24,25],\n",
    "              18:[11,12,17,19,25,26],\n",
    "              19:[12,13,18,20,26,27],\n",
    "              20:[13,14,19,21,27,28],\n",
    "              21:[8,14,15,20,22,28],\n",
    "              22:[15,21,23,28,29,35],\n",
    "              23:[15,16,22,24,29,30],\n",
    "              24:[16,17,23,25,30,31],\n",
    "              25:[17,18,24,26,31,32],\n",
    "              26:[18,19,25,27,32,33],\n",
    "              27:[19,20,26,28,33,34],\n",
    "              28:[20,21,22,27,34,35],\n",
    "              29:[22,23,30,35,36,37],\n",
    "              30:[23,24,29,31,37,38],\n",
    "              31:[24,25,30,32,38,39],\n",
    "              32:[25,25,31,33,39,40],\n",
    "              33:[26,27,32,34,40,41],\n",
    "              34:[27,28,33,35,41,42],\n",
    "              35:[22,28,29,34,36,42],\n",
    "              36:[29,35,37,42,43,49],\n",
    "              37:[29,30,36,38,43,44],\n",
    "              38:[30,31,37,39,44,45],\n",
    "              39:[31,32,38,40,45,46],\n",
    "              40:[32,33,39,41,46,47],\n",
    "              41:[33,34,40,42,47,48],\n",
    "              42:[34,35,41,36,48,49],\n",
    "              43:[4,5,36,37,44,49],\n",
    "              44:[5,6,37,38,43,45],\n",
    "              45:[6,7,38,39,44,46],\n",
    "              46:[1,7,39,40,45,47],\n",
    "              47:[1,2,40,41,46,48],\n",
    "              48:[2,3,41,42,47,49],\n",
    "              49:[3,4,36,42,43,48]}\n",
    "\n",
    "loop_time = 25\n",
    "Pb = np.zeros(loop_time)\n",
    "Pd = np.zeros(loop_time)\n",
    "\n",
    "for i in range(loop_time):\n",
    "    Pb[i], Pd[i] = markov_chain_cellular_network(num_cell, total_arrivals, mu, lam, handover_probability, delta, k, neighbours)\n",
    "\n",
    "prob_blocking_confidence_interval = stats.norm.interval(alpha = 0.95,\n",
    "                                                        loc = np.mean(Pb),\n",
    "                                                        scale = stats.sem(Pb))\n",
    "print(\"Blocking Probability (Markov Chain):\", np.mean(Pb))\n",
    "print(\"Blocking Probability Confidence Interval (Markov Chain): \", prob_blocking_confidence_interval)"
   ],
   "metadata": {
    "collapsed": false
   }
  }
 ],
 "metadata": {
  "kernelspec": {
   "display_name": "Python 3",
   "language": "python",
   "name": "python3"
  },
  "language_info": {
   "codemirror_mode": {
    "name": "ipython",
    "version": 2
   },
   "file_extension": ".py",
   "mimetype": "text/x-python",
   "name": "python",
   "nbconvert_exporter": "python",
   "pygments_lexer": "ipython2",
   "version": "2.7.6"
  }
 },
 "nbformat": 4,
 "nbformat_minor": 0
}
