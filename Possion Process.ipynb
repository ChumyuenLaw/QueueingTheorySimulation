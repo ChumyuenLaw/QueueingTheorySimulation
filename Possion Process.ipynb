{
 "cells": [
  {
   "cell_type": "markdown",
   "id": "9cdf57e5",
   "metadata": {},
   "source": [
    "# Poisson Process\n",
    "Generate a Poisson process with rate λ = 1 for a period of time of length T ≥ 10, 000.  \n",
    "Pick a point in time from a uniform distribution within the interval [1,10000].  \n",
    "Record the length of the interval (between two consecutive Poisson occurrences) that includes the chosen point in time.  \n",
    "Repeat the experiment 1000 times.  \n",
    "Compute the average length of the intervals you recorded.  \n",
    "Explain your result."
   ]
  },
  {
   "cell_type": "markdown",
   "source": [
    "## Solution"
   ],
   "metadata": {
    "collapsed": false
   }
  },
  {
   "cell_type": "code",
   "execution_count": 1,
   "id": "fd11a711",
   "metadata": {},
   "outputs": [],
   "source": [
    "import random\n",
    "import numpy as np\n",
    "from scipy.stats import erlang\n",
    "from scipy.stats import expon\n",
    "import matplotlib.pyplot as plt"
   ]
  },
  {
   "cell_type": "code",
   "execution_count": 2,
   "id": "18168482",
   "metadata": {},
   "outputs": [],
   "source": [
    "def find_interval(array, value):\n",
    "    for i in range(len(array)):\n",
    "        if array[i] < value:\n",
    "            continue\n",
    "        return array[i] - array[i - 1]"
   ]
  },
  {
   "cell_type": "code",
   "execution_count": 3,
   "id": "55d3ed4f",
   "metadata": {
    "scrolled": true
   },
   "outputs": [
    {
     "name": "stdout",
     "output_type": "stream",
     "text": [
      "The average length of the intervals is  2.0715713134274765\n"
     ]
    }
   ],
   "source": [
    "T = 15000\n",
    "rate = 1 # lambda\n",
    "\n",
    "interval_length = 0\n",
    "intervals = []\n",
    "for i in range(1000):\n",
    "    # Generate Poisson Process\n",
    "    total_time = 0\n",
    "    time_series = []\n",
    "    while total_time <= T:\n",
    "        t = expon.rvs(scale = 1 / rate)\n",
    "        total_time += t\n",
    "        time_series.append(total_time)\n",
    "    # Randomly select a point\n",
    "    point = random.uniform(1, 10000)\n",
    "    temp = find_interval(time_series, point)\n",
    "    intervals.append(temp)\n",
    "    interval_length += temp\n",
    "print(\"The average length of the intervals is \", interval_length / 1000)"
   ]
  },
  {
   "cell_type": "markdown",
   "source": [
    "The time intervals of the Poisson Process follow the **exponential distribution**. Also, the sum of exponential distributions is an **Erlang distribution** with parameters of 2 and $\\lambda$. The mean of Erlang (2, $\\lambda$) is $\\frac{2}{\\lambda}$. In this case, $\\lambda=1$, so the theoretical mean is **2**."
   ],
   "metadata": {
    "collapsed": false
   }
  },
  {
   "cell_type": "markdown",
   "source": [
    "## Probability Distribution Function"
   ],
   "metadata": {
    "collapsed": false
   }
  },
  {
   "cell_type": "code",
   "execution_count": 4,
   "id": "d75daa77",
   "metadata": {},
   "outputs": [
    {
     "data": {
      "text/plain": "Text(0, 0.5, 'Density')"
     },
     "execution_count": 4,
     "metadata": {},
     "output_type": "execute_result"
    },
    {
     "data": {
      "text/plain": "<Figure size 432x288 with 1 Axes>",
      "image/png": "[encoded data removed]"
     },
     "metadata": {
      "needs_background": "light"
     },
     "output_type": "display_data"
    }
   ],
   "source": [
    "x_n = np.linspace(0, 10, 100)\n",
    "plt.hist(intervals, bins=100, density = True, label = 'Sum of Exponential Distribution')\n",
    "plt.plot(x_n, erlang.pdf(x_n, 2, scale = 1 / rate), lw = 4, label = 'Erlang Distribution')\n",
    "plt.legend()\n",
    "plt.xlabel('x')\n",
    "plt.ylabel('Density')"
   ]
  },
  {
   "cell_type": "markdown",
   "source": [
    "Compare the PDFs of an ideal Erlang (2, $\\lambda$) and the time intervals. The figure below shows that the time intervals, which are the sum of exponential distributions, follow an Erlang distribution."
   ],
   "metadata": {
    "collapsed": false
   }
  },
  {
   "cell_type": "markdown",
   "source": [
    "## Acknowledgment\n",
    "Special thanks to Ms. Linjun DAI for helping me understand the merging process of Erlang distributions. "
   ],
   "metadata": {
    "collapsed": false
   }
  }
 ],
 "metadata": {
  "kernelspec": {
   "display_name": "Python 3 (ipykernel)",
   "language": "python",
   "name": "python3"
  },
  "language_info": {
   "codemirror_mode": {
    "name": "ipython",
    "version": 3
   },
   "file_extension": ".py",
   "mimetype": "text/x-python",
   "name": "python",
   "nbconvert_exporter": "python",
   "pygments_lexer": "ipython3",
   "version": "3.9.12"
  }
 },
 "nbformat": 4,
 "nbformat_minor": 5
}
