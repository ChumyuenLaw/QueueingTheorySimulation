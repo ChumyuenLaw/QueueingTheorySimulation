{
 "cells": [
  {
   "cell_type": "markdown",
   "id": "370f1ab8",
   "metadata": {},
   "source": [
    "# M/M/1 Simulation\n",
    "This notebook illustrate a simple method to generate a **M/M/1** queueing model, which denotes an SSQ with a Poisson arrival process and exponential service times, with infinite buffer and population, and FIFO service discipline."
   ]
  },
  {
   "cell_type": "code",
   "execution_count": 1,
   "id": "09530773",
   "metadata": {},
   "outputs": [],
   "source": [
    "import numpy as np\n",
    "import math\n",
    "import matplotlib.pyplot as plt"
   ]
  },
  {
   "cell_type": "markdown",
   "id": "7d21a641",
   "metadata": {},
   "source": [
    "## Model Generation"
   ]
  },
  {
   "cell_type": "markdown",
   "source": [
    "As we all know, the M/M/1 queueing model denotes an SSQ with a **Poisson arrival process** and **exponential service times**, with infinite buffer and population, and FIFO service discipline.\n",
    "\n",
    "I believe that generating a Poisson process and exponential distribution variables is pretty easy for you, so I will only show you the process of the queueing simulation.\n",
    "\n",
    "At time t = 0, customer 0 arrives. Since there aren't any other customers in the queue, it directly goes into the service, so the enter service time is 0. After some **service time s0**, the service is finished, and it leaves the queue. **The departure time d0 equals the service time s0**.\n",
    "\n",
    "Now customer 1 arrives with **arrivals time a1**. There are two conditions when customer 1 arrives:\n",
    "\n",
    "1. If customer 0 leaves, customer 1 can be served immediately. So **the enter service time e1 equals the arrival time a1**.\n",
    "\n",
    "2. If customer 0 is still served, customer 1 cannot be served. It has to wait until customer 0 finishes. **The enter service time e1 equals customer 0's departure time d0**.\n",
    "\n",
    "When customer 1 finishes the service, it leaves the queue, and the departure time will be **its enter service time e1 plus its service time s1**.\n",
    "\n",
    "The figures below show the two conditions.\n",
    "\n",
    "![jupyter](./images/mm1.jpeg)"
   ],
   "metadata": {
    "collapsed": false
   }
  },
  {
   "cell_type": "code",
   "execution_count": 2,
   "id": "9ddbf4bb",
   "metadata": {},
   "outputs": [],
   "source": [
    "lam = 0.4  # lambda\n",
    "mu = 0.5  # mu\n",
    "total_arrivals = 400\n",
    "\n",
    "arrival_time = np.zeros(total_arrivals) # the time when the customer arrives \n",
    "service_time = np.zeros(total_arrivals) # the service time\n",
    "enter_time = np.zeros(total_arrivals)   # the time when the customer is served\n",
    "departure_time = np.zeros(total_arrivals)  # the time when the customer leaves the queue\n",
    "\n",
    "# initialization of service time and arrival time\n",
    "for i in range(total_arrivals):\n",
    "    service_time[i] = np.random.exponential(1 / mu)\n",
    "for i in range(1, total_arrivals):\n",
    "    arrival_time[i] = arrival_time[i - 1] + np.random.exponential(1 / lam)\n",
    "    \n",
    "departure_time[0] = service_time[0]\n",
    "\n",
    "# simulation process\n",
    "for i in range(1, total_arrivals):\n",
    "    if departure_time[i - 1] < arrival_time[i]:\n",
    "        enter_time[i] = arrival_time[i]\n",
    "    else:\n",
    "        enter_time[i] = departure_time[i - 1]\n",
    "    departure_time[i] = enter_time[i] + service_time[i]"
   ]
  },
  {
   "cell_type": "markdown",
   "id": "6687d64d",
   "metadata": {},
   "source": [
    "## Data Analysis"
   ]
  },
  {
   "cell_type": "markdown",
   "id": "3d2e58c4",
   "metadata": {},
   "source": [
    "In this simulation, $\\lambda=0.4$, $\\mu=0.5$, the number of arrivals is 400.\n",
    "\n",
    "The figure below shows the distribution of arrival time and departure time."
   ]
  },
  {
   "cell_type": "code",
   "execution_count": 3,
   "id": "52ac2542",
   "metadata": {
    "scrolled": true
   },
   "outputs": [
    {
     "data": {
      "text/plain": [
       "Text(0, 0.5, 'Time')"
      ]
     },
     "execution_count": 3,
     "metadata": {},
     "output_type": "execute_result"
    },
    {
     "data": {
      "image/png": "[encoded data removed]",
      "text/plain": [
       "<Figure size 432x288 with 1 Axes>"
      ]
     },
     "metadata": {
      "needs_background": "light"
     },
     "output_type": "display_data"
    }
   ],
   "source": [
    "plt.plot(np.arange(total_arrivals), arrival_time, label = \"arrival time\")\n",
    "plt.plot(np.arange(total_arrivals), departure_time, label = \"departure time\")\n",
    "plt.legend()\n",
    "plt.xlabel(\"Number of arrivals\")\n",
    "plt.ylabel(\"Time\")"
   ]
  },
  {
   "cell_type": "markdown",
   "id": "8fa3163f",
   "metadata": {},
   "source": [
    "Calculate the mean queue size $E[Q]$.  \n",
    "The theoretical mean queue size $$E[Q] = \\frac{\\rho}{1-\\rho},$$ where $\\rho = \\frac{\\lambda}{\\mu}$"
   ]
  },
  {
   "cell_type": "code",
   "execution_count": 4,
   "id": "4ca6884c",
   "metadata": {},
   "outputs": [
    {
     "name": "stdout",
     "output_type": "stream",
     "text": [
      "E[Q] = 4.1075\n"
     ]
    }
   ],
   "source": [
    "queue_size = np.zeros(2000)\n",
    "for i in range(2000):\n",
    "    point = np.random.uniform(0, departure_time[total_arrivals - 1])\n",
    "    arrival_idx = np.searchsorted(arrival_time, point) - 1\n",
    "    departure_idx = np.searchsorted(departure_time, point) - 1\n",
    "    queue_size[i] = arrival_idx - departure_idx\n",
    "print(\"E[Q] =\", np.mean(queue_size))"
   ]
  },
  {
   "cell_type": "markdown",
   "id": "298fafb3",
   "metadata": {},
   "source": [
    "Calculate the mean delay $E[D]$ (system waiting time) of a customer from the moment it arrives until its service is completed, and the mean delay of a customer $E[W_Q]$, in steady-state, from the moment it arrives until its service commences (waiting time in the queue).  \n",
    "Theoretically, $$E[D] = \\frac{1}{\\mu - \\lambda}$$\n",
    "$$E[W_Q] = \\frac{\\rho}{\\mu - \\lambda}$$"
   ]
  },
  {
   "cell_type": "code",
   "execution_count": 5,
   "id": "96bff27b",
   "metadata": {},
   "outputs": [
    {
     "name": "stdout",
     "output_type": "stream",
     "text": [
      "E[D] = 10.021894569624575\n",
      "E[WQ] = 8.073696025284878\n"
     ]
    }
   ],
   "source": [
    "delay = departure_time - arrival_time\n",
    "wait = enter_time - arrival_time\n",
    "mean_delay = np.mean(delay)\n",
    "mean_wait = np.mean(wait)\n",
    "print(\"E[D] =\", mean_delay)\n",
    "print(\"E[WQ] =\", mean_wait)"
   ]
  },
  {
   "cell_type": "markdown",
   "source": [
    "In this case, $E\\left\\lbrack Q\\right\\rbrack=4$, $E\\left\\lbrack D\\right\\rbrack=10$, $E[W_Q]=8$.\n",
    "\n",
    "The simulation results show that $E\\left\\lbrack Q\\right\\rbrack=4.1075$, $E\\left\\lbrack D\\right\\rbrack=10.021894569624575$, $E[W_Q]=8.073696025284878$.\n",
    "\n",
    "**Little's Formula** tells that for a G/G/1 queueing model, $E\\left\\lbrack Q\\right\\rbrack=\\lambda E\\left\\lbrack D\\right\\rbrack$.\n",
    "\n",
    "The simulation result also proves that this equation makes sense."
   ],
   "metadata": {
    "collapsed": false
   }
  },
  {
   "cell_type": "markdown",
   "id": "abf653eb",
   "metadata": {},
   "source": [
    "## References\n",
    "[1] https://www.youtube.com/watch?v=12XbrjiZ1FA  \n",
    "[2] https://zh.wikipedia.org/zh-hans/M/M/1"
   ]
  }
 ],
 "metadata": {
  "kernelspec": {
   "display_name": "Python 3 (ipykernel)",
   "language": "python",
   "name": "python3"
  },
  "language_info": {
   "codemirror_mode": {
    "name": "ipython",
    "version": 3
   },
   "file_extension": ".py",
   "mimetype": "text/x-python",
   "name": "python",
   "nbconvert_exporter": "python",
   "pygments_lexer": "ipython3",
   "version": "3.9.12"
  }
 },
 "nbformat": 4,
 "nbformat_minor": 5
}
