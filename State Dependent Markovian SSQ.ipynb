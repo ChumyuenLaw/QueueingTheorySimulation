{
 "cells": [
  {
   "cell_type": "markdown",
   "source": [
    "# Markov Chain Simulation of State Dependent SSQ\n",
    "Consider a single-server Markovian queue with state dependent arrivals and service. You are free to choose the λi and μi rates, but make sure they are different for different i values. Set the buffer size at k = 200. Solve the steady-state equations using the method of successive substitutions and using a standard method (e.g. using Cramer’s rule). Compare the results and the computation time. Then, obtain the blocking probability by simulation and compare the results and the running times with the equivalent blocking probability results and running times obtained by solving the state equations."
   ],
   "metadata": {
    "collapsed": false
   }
  },
  {
   "cell_type": "code",
   "execution_count": 9,
   "outputs": [],
   "source": [
    "import numpy as np\n",
    "import random as random\n",
    "import scipy.stats as stats"
   ],
   "metadata": {
    "collapsed": false
   }
  },
  {
   "cell_type": "markdown",
   "source": [
    "## Simulation of State Dependent SSQ\n",
    "\n",
    "\n",
    "Based on the state transition diagram, a pseudo code of Markov Chain simulation is given:\n",
    "\n",
    "Initialization: Q (QueueSize) = 0; Na (Number of Arrivals) = 0, Nb (Number of Blocks) = 0, k (Buffer Size).\n",
    "\n",
    "1. If R(01) ≤ λ/(λ + Qμ)\n",
    "\n",
    "        Na = Na + 1;\n",
    "\n",
    "             if Q < k - 1: Q = Q + 1;\n",
    "\n",
    "             else: Nb = Nb + 1;\n",
    "\n",
    "        else: Q = Q - 1.\n",
    "\n",
    "2. If Na < MAXNa go to 1;\n",
    "\n",
    "    else, print Bp = Nb/Na."
   ],
   "metadata": {
    "collapsed": false
   }
  },
  {
   "cell_type": "code",
   "execution_count": 10,
   "outputs": [],
   "source": [
    "def state_dependent_ssq_mk_simulation(lam, mu, k, total_arrivals):\n",
    "    queue_size = 0\n",
    "    num_arrivals = 0\n",
    "    num_blocked = 0\n",
    "\n",
    "    while num_arrivals < total_arrivals:\n",
    "        # arrival\n",
    "        if random.random() <= lam[queue_size] / (lam[queue_size] + int(queue_size > 0) * mu[queue_size]):\n",
    "            num_arrivals += 1\n",
    "            # within the buffer size\n",
    "            if queue_size < k - 1:\n",
    "                queue_size += 1\n",
    "            # exceed the buffer size\n",
    "            else:\n",
    "                num_blocked += 1\n",
    "        # departure\n",
    "        else:\n",
    "            queue_size -= 1\n",
    "    blocking_probability = num_blocked / num_arrivals\n",
    "    return blocking_probability"
   ],
   "metadata": {
    "collapsed": false
   }
  },
  {
   "cell_type": "markdown",
   "source": [
    "## Theoretical Blocking Probability\n",
    "The steady-state equation is $\\pi_{i-1}\\lambda_{i-1}=\\pi_i\\mu_i,i=1,2,3,\\ldots,k$.\n",
    "\n",
    "The normalizing equation is $\\sum_{i=0}^k\\pi_i=1$.\n",
    "\n",
    "Given a set of lambda and mu, all the pi can be calculated.\n",
    "\n",
    "The results are\n",
    "$$\\pi_0=\\frac{1}{1+\\sum_{i=1}^k\\frac{\\prod_{j=0}^{i-1}\\lambda_j}{\\prod_{m=1}^i\\mu_m}}$$\n",
    "$$\\pi_k=\\pi_0\\frac{\\prod_{j=1}^k\\mu_{_j}}{\\prod_{i=0}^{k-1}\\lambda_i}$$\n",
    "\n"
   ],
   "metadata": {
    "collapsed": false
   }
  },
  {
   "cell_type": "code",
   "execution_count": 11,
   "outputs": [],
   "source": [
    "def theoretical_blocking_probability(lam, mu, k):\n",
    "    pi = np.zeros(k)\n",
    "    # calculate pi(0)\n",
    "    temp = 1\n",
    "    for i in range(1, k):\n",
    "        temp += np.prod(lam[0 : i]) / np.prod(mu[1 : i + 1])\n",
    "    pi[0] = 1 / temp\n",
    "\n",
    "    #calculate pi(1) ~ pi(k - 1)\n",
    "    for i in range(1, k):\n",
    "        pi[i] = pi[0] * np.prod(lam[0 : i]) / np.prod(mu[1 : i + 1])\n",
    "\n",
    "    blocking_probability = pi[k - 1] * lam[k - 1] / np.sum(pi * lam)\n",
    "    return blocking_probability"
   ],
   "metadata": {
    "collapsed": false
   }
  },
  {
   "cell_type": "markdown",
   "source": [
    "## Blocking Probability\n",
    "Parameters: k = 25, the arrival rate is a set of random variables ranging from 2 to 10, and the service rate is a set of random variables ranging from 1 to 8.\n",
    "\n",
    "The blocking probability of the Markov Chain is very close to the theoretical value. The theoretical value also lies in the confidence interval.\n",
    "\n",
    "However, when I change the k to 200, the result is wrong because the value overflows."
   ],
   "metadata": {
    "collapsed": false
   }
  },
  {
   "cell_type": "code",
   "execution_count": 24,
   "outputs": [
    {
     "name": "stdout",
     "output_type": "stream",
     "text": [
      "Mean Blocking Probability (Markov Chain): 0.014392999999999998\n",
      "Confidence Interval of Blocking Probability (Markov Chain): (0.014205870198384473, 0.014580129801615523)\n",
      "Theoretical Blocking Probability: 0.014275629703299124\n"
     ]
    }
   ],
   "source": [
    "k = 25\n",
    "lam = np.random.randint(2, 10, k)\n",
    "mu = np.random.randint(1, 8, k)\n",
    "loop_time = 50\n",
    "\n",
    "mk_blocking_prob = np.zeros(loop_time)\n",
    "for i in range(loop_time):\n",
    "    mk_blocking_prob[i] = state_dependent_ssq_mk_simulation(lam, mu, k, 100000)\n",
    "\n",
    "mk_confidence_interval = stats.norm.interval(alpha = 0.95,\n",
    "                                             loc = np.mean(mk_blocking_prob),\n",
    "                                             scale = stats.sem(mk_blocking_prob))\n",
    "\n",
    "print(\"Mean Blocking Probability (Markov Chain):\", np.mean(mk_blocking_prob))\n",
    "print(\"Confidence Interval of Blocking Probability (Markov Chain):\", mk_confidence_interval)\n",
    "print(\"Theoretical Blocking Probability:\", theoretical_blocking_probability(lam, mu, k))"
   ],
   "metadata": {
    "collapsed": false
   }
  }
 ],
 "metadata": {
  "kernelspec": {
   "display_name": "Python 3",
   "language": "python",
   "name": "python3"
  },
  "language_info": {
   "codemirror_mode": {
    "name": "ipython",
    "version": 2
   },
   "file_extension": ".py",
   "mimetype": "text/x-python",
   "name": "python",
   "nbconvert_exporter": "python",
   "pygments_lexer": "ipython2",
   "version": "2.7.6"
  }
 },
 "nbformat": 4,
 "nbformat_minor": 0
}
